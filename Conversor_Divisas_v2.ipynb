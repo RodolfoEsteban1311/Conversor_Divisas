{
  "nbformat": 4,
  "nbformat_minor": 0,
  "metadata": {
    "colab": {
      "provenance": [],
      "authorship_tag": "ABX9TyPh07F1IoE5MfcBVNIdn9FC",
      "include_colab_link": true
    },
    "kernelspec": {
      "name": "python3",
      "display_name": "Python 3"
    },
    "language_info": {
      "name": "python"
    }
  },
  "cells": [
    {
      "cell_type": "markdown",
      "metadata": {
        "id": "view-in-github",
        "colab_type": "text"
      },
      "source": [
        "<a href=\"https://colab.research.google.com/github/RodolfoEsteban1311/Conversor_Divisas/blob/main/Conversor_Divisas_v2.ipynb\" target=\"_parent\"><img src=\"https://colab.research.google.com/assets/colab-badge.svg\" alt=\"Open In Colab\"/></a>"
      ]
    },
    {
      "cell_type": "code",
      "source": [
        "from forex_python.converter import CurrencyRates\n",
        "\n",
        "def obtener_codigos_monedas():\n",
        "    c = CurrencyRates()\n",
        "    try:\n",
        "        tasas = c.get_rates('USD')\n",
        "        codigos = list(tasas.keys())\n",
        "        return codigos\n",
        "    except Exception as e:\n",
        "        print(f\"Error al obtener códigos de moneda: {str(e)}\")\n",
        "        return []\n",
        "\n",
        "def convertir_moneda(monto, moneda_origen, moneda_destino):\n",
        "    c = CurrencyRates()\n",
        "\n",
        "    try:\n",
        "        tasa_cambio = c.get_rate(moneda_origen, moneda_destino)\n",
        "        monto_convertido = monto * tasa_cambio\n",
        "        return monto_convertido, moneda_destino\n",
        "    except Exception as e:\n",
        "        return None, str(e)\n",
        "\n",
        "if __name__ == \"__main__\":\n",
        "    codigos_monedas = obtener_codigos_monedas()\n",
        "\n",
        "    if codigos_monedas:\n",
        "        print(\"Códigos de moneda admitidos:\", codigos_monedas)\n",
        "\n",
        "        monto_ingresado = float(input(\"Ingrese el monto a convertir: \"))\n",
        "        moneda_origen = input(\"Ingrese la moneda de origen (código de 3 letras, por ejemplo, USD): \").upper()\n",
        "        moneda_destino = input(\"Ingrese la moneda de destino (código de 3 letras, por ejemplo, EUR): \").upper()\n",
        "\n",
        "        resultado, moneda_destino = convertir_moneda(monto_ingresado, moneda_origen, moneda_destino)\n",
        "\n",
        "        if resultado is not None:\n",
        "            print(f\"{monto_ingresado:.2f} {moneda_origen} equivale a {resultado:.2f} {moneda_destino}\")\n",
        "        else:\n",
        "            print(f\"Error: {moneda_destino}\")\n",
        "    else:\n",
        "        print(\"No se pudieron obtener los códigos de moneda.\")\n"
      ],
      "metadata": {
        "colab": {
          "base_uri": "https://localhost:8080/"
        },
        "id": "FGpo9-Us9Kp8",
        "outputId": "84b2ff0f-09a9-4d71-b2a8-0afcab20cd61"
      },
      "execution_count": 5,
      "outputs": [
        {
          "output_type": "stream",
          "name": "stdout",
          "text": [
            "Códigos de moneda admitidos: ['EUR', 'JPY', 'BGN', 'CZK', 'DKK', 'GBP', 'HUF', 'PLN', 'RON', 'SEK', 'CHF', 'ISK', 'NOK', 'TRY', 'AUD', 'BRL', 'CAD', 'CNY', 'HKD', 'IDR', 'INR', 'KRW', 'MXN', 'MYR', 'NZD', 'PHP', 'SGD', 'THB', 'ZAR']\n",
            "Ingrese el monto a convertir: 5\n",
            "Ingrese la moneda de origen (código de 3 letras, por ejemplo, USD): USD\n",
            "Ingrese la moneda de destino (código de 3 letras, por ejemplo, EUR): EUR\n",
            "5.00 USD equivale a 4.69 EUR\n"
          ]
        }
      ]
    },
    {
      "cell_type": "code",
      "source": [
        "!pip install forex-python\n"
      ],
      "metadata": {
        "colab": {
          "base_uri": "https://localhost:8080/"
        },
        "id": "gKk-N1bJ9eUi",
        "outputId": "29de0f99-7041-49f1-fcd4-567773b05f82"
      },
      "execution_count": 3,
      "outputs": [
        {
          "output_type": "stream",
          "name": "stdout",
          "text": [
            "Collecting forex-python\n",
            "  Downloading forex_python-1.8-py3-none-any.whl (8.2 kB)\n",
            "Requirement already satisfied: requests in /usr/local/lib/python3.10/dist-packages (from forex-python) (2.31.0)\n",
            "Collecting simplejson (from forex-python)\n",
            "  Downloading simplejson-3.19.2-cp310-cp310-manylinux_2_5_x86_64.manylinux1_x86_64.manylinux_2_17_x86_64.manylinux2014_x86_64.whl (137 kB)\n",
            "\u001b[2K     \u001b[90m━━━━━━━━━━━━━━━━━━━━━━━━━━━━━━━━━━━━━━━━\u001b[0m \u001b[32m137.9/137.9 kB\u001b[0m \u001b[31m3.4 MB/s\u001b[0m eta \u001b[36m0:00:00\u001b[0m\n",
            "\u001b[?25hRequirement already satisfied: charset-normalizer<4,>=2 in /usr/local/lib/python3.10/dist-packages (from requests->forex-python) (3.3.2)\n",
            "Requirement already satisfied: idna<4,>=2.5 in /usr/local/lib/python3.10/dist-packages (from requests->forex-python) (3.4)\n",
            "Requirement already satisfied: urllib3<3,>=1.21.1 in /usr/local/lib/python3.10/dist-packages (from requests->forex-python) (2.0.7)\n",
            "Requirement already satisfied: certifi>=2017.4.17 in /usr/local/lib/python3.10/dist-packages (from requests->forex-python) (2023.7.22)\n",
            "Installing collected packages: simplejson, forex-python\n",
            "Successfully installed forex-python-1.8 simplejson-3.19.2\n"
          ]
        }
      ]
    }
  ]
}