{
  "nbformat": 4,
  "nbformat_minor": 0,
  "metadata": {
    "colab": {
      "provenance": [],
      "authorship_tag": "ABX9TyOLns6w6nkFmBRdGQH0Ibkh",
      "include_colab_link": true
    },
    "kernelspec": {
      "name": "python3",
      "display_name": "Python 3"
    },
    "language_info": {
      "name": "python"
    }
  },
  "cells": [
    {
      "cell_type": "markdown",
      "metadata": {
        "id": "view-in-github",
        "colab_type": "text"
      },
      "source": [
        "<a href=\"https://colab.research.google.com/github/RodolfoEsteban1311/Conversor_Divisas/blob/main/Conversor_Divisas_v3.ipynb\" target=\"_parent\"><img src=\"https://colab.research.google.com/assets/colab-badge.svg\" alt=\"Open In Colab\"/></a>"
      ]
    },
    {
      "cell_type": "code",
      "execution_count": 2,
      "metadata": {
        "colab": {
          "base_uri": "https://localhost:8080/",
          "height": 993
        },
        "id": "267d4uZs3JBq",
        "outputId": "70d8b644-fe5b-4fca-cb09-b0b6ecf9d3d3"
      },
      "outputs": [
        {
          "output_type": "stream",
          "name": "stdout",
          "text": [
            "Collecting forex-python\n",
            "  Downloading forex_python-1.8-py3-none-any.whl (8.2 kB)\n",
            "Requirement already satisfied: matplotlib in /usr/local/lib/python3.10/dist-packages (3.7.1)\n",
            "Requirement already satisfied: requests in /usr/local/lib/python3.10/dist-packages (from forex-python) (2.31.0)\n",
            "Collecting simplejson (from forex-python)\n",
            "  Downloading simplejson-3.19.2-cp310-cp310-manylinux_2_5_x86_64.manylinux1_x86_64.manylinux_2_17_x86_64.manylinux2014_x86_64.whl (137 kB)\n",
            "\u001b[2K     \u001b[90m━━━━━━━━━━━━━━━━━━━━━━━━━━━━━━━━━━━━━━━━\u001b[0m \u001b[32m137.9/137.9 kB\u001b[0m \u001b[31m2.8 MB/s\u001b[0m eta \u001b[36m0:00:00\u001b[0m\n",
            "\u001b[?25hRequirement already satisfied: contourpy>=1.0.1 in /usr/local/lib/python3.10/dist-packages (from matplotlib) (1.2.0)\n",
            "Requirement already satisfied: cycler>=0.10 in /usr/local/lib/python3.10/dist-packages (from matplotlib) (0.12.1)\n",
            "Requirement already satisfied: fonttools>=4.22.0 in /usr/local/lib/python3.10/dist-packages (from matplotlib) (4.44.3)\n",
            "Requirement already satisfied: kiwisolver>=1.0.1 in /usr/local/lib/python3.10/dist-packages (from matplotlib) (1.4.5)\n",
            "Requirement already satisfied: numpy>=1.20 in /usr/local/lib/python3.10/dist-packages (from matplotlib) (1.23.5)\n",
            "Requirement already satisfied: packaging>=20.0 in /usr/local/lib/python3.10/dist-packages (from matplotlib) (23.2)\n",
            "Requirement already satisfied: pillow>=6.2.0 in /usr/local/lib/python3.10/dist-packages (from matplotlib) (9.4.0)\n",
            "Requirement already satisfied: pyparsing>=2.3.1 in /usr/local/lib/python3.10/dist-packages (from matplotlib) (3.1.1)\n",
            "Requirement already satisfied: python-dateutil>=2.7 in /usr/local/lib/python3.10/dist-packages (from matplotlib) (2.8.2)\n",
            "Requirement already satisfied: six>=1.5 in /usr/local/lib/python3.10/dist-packages (from python-dateutil>=2.7->matplotlib) (1.16.0)\n",
            "Requirement already satisfied: charset-normalizer<4,>=2 in /usr/local/lib/python3.10/dist-packages (from requests->forex-python) (3.3.2)\n",
            "Requirement already satisfied: idna<4,>=2.5 in /usr/local/lib/python3.10/dist-packages (from requests->forex-python) (3.4)\n",
            "Requirement already satisfied: urllib3<3,>=1.21.1 in /usr/local/lib/python3.10/dist-packages (from requests->forex-python) (2.0.7)\n",
            "Requirement already satisfied: certifi>=2017.4.17 in /usr/local/lib/python3.10/dist-packages (from requests->forex-python) (2023.7.22)\n",
            "Installing collected packages: simplejson, forex-python\n",
            "Successfully installed forex-python-1.8 simplejson-3.19.2\n",
            "Hola, por favor ingrese su nombre: Rodolfo bb\n",
            "Bienvenido a la Calculadora de Divisas, Rodolfo bb!\n",
            "Ingrese la cantidad a convertir: 100\n",
            "Ingrese la moneda de origen (por ejemplo, USD): USD\n",
            "Ingrese la moneda de destino (por ejemplo, EUR): EUR\n",
            "Gracias por visitar la Calculadora de Divisas. Que tengas un excelente dia!, Rodolfo bb! \n",
            "100.0 USD equivale a 93.72 EUR\n"
          ]
        },
        {
          "output_type": "display_data",
          "data": {
            "text/plain": [
              "<Figure size 640x480 with 1 Axes>"
            ],
            "image/png": "[encoded data removed]"
          },
          "metadata": {}
        }
      ],
      "source": [
        "!pip install forex-python matplotlib\n",
        "# Importa las bibliotecas necesarias\n",
        "from forex_python.converter import CurrencyRates\n",
        "import matplotlib.pyplot as plt\n",
        "\n",
        "def convertir_divisas(monto, moneda_origen, moneda_destino):\n",
        "    # Inicializa el objeto CurrencyRates\n",
        "    c = CurrencyRates()\n",
        "\n",
        "    # Obtiene la tasa de cambio entre las dos monedas\n",
        "    tasa_cambio = c.get_rate(moneda_origen, moneda_destino)\n",
        "\n",
        "    # Calcula el monto convertido\n",
        "    monto_convertido = monto * tasa_cambio\n",
        "\n",
        "    return monto_convertido\n",
        "\n",
        "def graficar_conversion(monto, moneda_origen, moneda_destino):\n",
        "    # Realiza la conversión\n",
        "    monto_convertido = convertir_divisas(monto, moneda_origen, moneda_destino)\n",
        "\n",
        "\n",
        "\n",
        "    # Imprime el resultado numérico\n",
        "    print(f'{monto} {moneda_origen} equivale a {monto_convertido:.2f} {moneda_destino}')\n",
        "\n",
        "    # Crea un gráfico de barras para visualizar la conversión\n",
        "    plt.bar([moneda_origen, moneda_destino], [monto, monto_convertido], color=['blue', 'green'])\n",
        "    plt.xlabel('Moneda')\n",
        "    plt.ylabel('Monto')\n",
        "    plt.title(f'Conversión de {monto} {moneda_origen} a {moneda_destino}')\n",
        "    plt.show()\n",
        "\n",
        "# Solicita el nombre del usuario\n",
        "nombre_usuario = input(\"Hola, por favor ingrese su nombre: \")\n",
        "# Imprime un mensaje de bienvenida con el nombre del usuario\n",
        "print(f'Bienvenido a la Calculadora de Divisas, {nombre_usuario}!')\n",
        "# Solicita la entrada del usuario\n",
        "monto = float(input(\"Ingrese la cantidad a convertir: \"))\n",
        "moneda_origen = input(\"Ingrese la moneda de origen (por ejemplo, USD): \").upper()\n",
        "moneda_destino = input(\"Ingrese la moneda de destino (por ejemplo, EUR): \").upper()\n",
        "# Imprime un mensaje de bienvenida con el nombre del usuario\n",
        "print(f'Gracias por visitar la Calculadora de Divisas. Que tengas un excelente dia!, {nombre_usuario}! ')\n",
        "# Llama a la función para realizar la conversión y mostrar el resultado\n",
        "graficar_conversion(monto, moneda_origen, moneda_destino)"
      ]
    }
  ]
}